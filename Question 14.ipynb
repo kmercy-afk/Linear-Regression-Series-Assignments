{
 "cells": [
  {
   "cell_type": "code",
   "execution_count": 2,
   "metadata": {},
   "outputs": [
    {
     "name": "stdout",
     "output_type": "stream",
     "text": [
      "     0    1\n",
      "0  1.0  1.0\n",
      "1  1.0  1.0\n"
     ]
    }
   ],
   "source": [
    "import numpy as np\n",
    "import pandas as pd\n",
    "\n",
    "# Example of checking correlation matrix\n",
    "correlation_matrix = pd.DataFrame(X).corr()\n",
    "print(correlation_matrix)\n"
   ]
  },
  {
   "cell_type": "code",
   "execution_count": 4,
   "metadata": {},
   "outputs": [
    {
     "name": "stdout",
     "output_type": "stream",
     "text": [
      "Predictions: [ 3.  7. 11.]\n"
     ]
    }
   ],
   "source": [
    "import numpy as np\n",
    "\n",
    "class LinearRegression:\n",
    "    def __init__(self):\n",
    "        self.theta = None\n",
    "\n",
    "    def fit(self, X, y):\n",
    "        \"\"\"\n",
    "        Train the model using the Normal Equation with pseudo-inverse\n",
    "        X: Feature matrix (m x n)\n",
    "        y: Target vector (m,)\n",
    "        \"\"\"\n",
    "        # Adding a column of ones for the bias term (x_0 = 1)\n",
    "        X_bias = np.c_[np.ones(X.shape[0]), X]  # Shape: (m, n+1)\n",
    "        \n",
    "        # Use pseudo-inverse to handle singular matrix issue\n",
    "        self.theta = np.linalg.pinv(X_bias.T @ X_bias) @ X_bias.T @ y\n",
    "\n",
    "    def predict(self, X):\n",
    "        \"\"\"\n",
    "        Predict the target values for the given feature matrix X\n",
    "        X: Feature matrix (m x n)\n",
    "        \"\"\"\n",
    "        X_bias = np.c_[np.ones(X.shape[0]), X]  # Adding bias term (x_0 = 1)\n",
    "        return X_bias @ self.theta  # Matrix multiplication to get predictions\n",
    "\n",
    "# Example Usage\n",
    "X = np.array([[1, 2], [3, 4], [5, 6]])  # Example feature data\n",
    "y = np.array([3, 7, 11])  # Example target data\n",
    "\n",
    "model = LinearRegression()\n",
    "\n",
    "# Train the model\n",
    "model.fit(X, y)\n",
    "\n",
    "# Make predictions\n",
    "predictions = model.predict(X)\n",
    "\n",
    "print(\"Predictions:\", predictions)\n"
   ]
  },
  {
   "cell_type": "code",
   "execution_count": 5,
   "metadata": {},
   "outputs": [
    {
     "name": "stdout",
     "output_type": "stream",
     "text": [
      "Predictions: [ 3.01669019  7.00444109 10.99219199]\n"
     ]
    }
   ],
   "source": [
    "import numpy as np\n",
    "\n",
    "class ScratchLinearRegression:\n",
    "    def __init__(self, learning_rate=0.01, iterations=1000):\n",
    "        self.learning_rate = learning_rate  # Learning rate (alpha)\n",
    "        self.iterations = iterations  # Number of iterations for gradient descent\n",
    "        self.theta = None  # Parameters for the model\n",
    "    \n",
    "    def fit(self, X, y):\n",
    "        \"\"\"\n",
    "        Train the linear regression model using gradient descent.\n",
    "        X: Feature matrix (m x n)\n",
    "        y: Target vector (m,)\n",
    "        \"\"\"\n",
    "        m, n = X.shape\n",
    "        X_bias = np.c_[np.ones(m), X]  # Add a column of ones to X for the bias term\n",
    "        self.theta = np.zeros(n + 1)  # Initialize theta (n+1 because of the bias term)\n",
    "        \n",
    "        # Perform gradient descent\n",
    "        for _ in range(self.iterations):\n",
    "            self._gradient_descent(X_bias, y, m)\n",
    "    \n",
    "    def _gradient_descent(self, X_bias, y, m):\n",
    "        \"\"\"\n",
    "        Perform one step of gradient descent to update the parameters (theta).\n",
    "        X_bias: Feature matrix with bias term included (m x n+1)\n",
    "        y: Target vector (m,)\n",
    "        m: Number of training examples\n",
    "        \"\"\"\n",
    "        predictions = X_bias.dot(self.theta)  # h(x) = X * theta\n",
    "        errors = predictions - y\n",
    "        \n",
    "        # Update each parameter (theta_j) using the gradient descent rule\n",
    "        for j in range(len(self.theta)):\n",
    "            # Gradient calculation for each feature\n",
    "            gradient = (1 / m) * np.dot(errors, X_bias[:, j])  # sum of (h(x_i) - y_i) * x_j_i\n",
    "            self.theta[j] -= self.learning_rate * gradient  # Update parameter\n",
    "    \n",
    "    def predict(self, X):\n",
    "        \"\"\"\n",
    "        Predict the target values for the given feature matrix X.\n",
    "        X: Feature matrix (m x n)\n",
    "        \"\"\"\n",
    "        X_bias = np.c_[np.ones(X.shape[0]), X]  # Add a column of ones for bias term\n",
    "        return X_bias.dot(self.theta)  # Predictions h(x) = X * theta\n",
    "\n",
    "# Example usage\n",
    "X = np.array([[1, 2], [3, 4], [5, 6]])  # Example feature data (3 samples, 2 features)\n",
    "y = np.array([3, 7, 11])  # Example target data\n",
    "\n",
    "model = ScratchLinearRegression(learning_rate=0.01, iterations=1000)\n",
    "\n",
    "# Train the model\n",
    "model.fit(X, y)\n",
    "\n",
    "# Make predictions\n",
    "predictions = model.predict(X)\n",
    "\n",
    "print(\"Predictions:\", predictions)\n"
   ]
  },
  {
   "cell_type": "code",
   "execution_count": 7,
   "metadata": {},
   "outputs": [
    {
     "name": "stdout",
     "output_type": "stream",
     "text": [
      "Mean Squared Error: 0.029999999999999905\n"
     ]
    }
   ],
   "source": [
    "import numpy as np\n",
    "\n",
    "def mean_squared_error(y_true, y_pred):\n",
    "    \"\"\"\n",
    "    Calculate the Mean Squared Error (MSE) between the true and predicted values.\n",
    "    \n",
    "    Parameters:\n",
    "    y_true (numpy array): Actual target values\n",
    "    y_pred (numpy array): Predicted target values\n",
    "    \n",
    "    Returns:\n",
    "    float: The MSE value\n",
    "    \"\"\"\n",
    "    m = len(y_true)  # Number of samples\n",
    "    mse = (1 / m) * np.sum((y_pred - y_true) ** 2)  # MSE formula\n",
    "    return mse\n",
    "\n",
    "# Example usage\n",
    "y_true = np.array([3, 7, 11])  # Example actual values\n",
    "y_pred = np.array([2.8, 6.9, 11.2])  # Example predicted values\n",
    "\n",
    "mse_value = mean_squared_error(y_true, y_pred)\n",
    "print(f\"Mean Squared Error: {mse_value}\")\n"
   ]
  },
  {
   "cell_type": "code",
   "execution_count": 8,
   "metadata": {},
   "outputs": [],
   "source": [
    "import numpy as np\n",
    "\n",
    "class ScratchLinearRegression:\n",
    "    def __init__(self, learning_rate=0.01, iterations=1000):\n",
    "        self.learning_rate = learning_rate\n",
    "        self.iterations = iterations\n",
    "        self.loss = []  # To store the loss values during training\n",
    "        self.val_loss = []  # To store the validation loss values (if applicable)\n",
    "\n",
    "    def fit(self, X, y, X_val=None, y_val=None):\n",
    "        m, n = X.shape\n",
    "        self.theta = np.zeros(n + 1)  # Initialize theta with zeros (including bias term)\n",
    "        X_bias = np.c_[np.ones(m), X]  # Add a bias column (intercept term)\n",
    "        \n",
    "        # Training loop\n",
    "        for _ in range(self.iterations):\n",
    "            # Compute predictions\n",
    "            predictions = X_bias.dot(self.theta)\n",
    "            \n",
    "            # Compute the loss (objective function J)\n",
    "            loss_value = self.compute_loss(X_bias, y)\n",
    "            self.loss.append(loss_value)\n",
    "            \n",
    "            # Optionally compute validation loss\n",
    "            if X_val is not None and y_val is not None:\n",
    "                val_loss_value = self.compute_loss(np.c_[np.ones(X_val.shape[0]), X_val], y_val)\n",
    "                self.val_loss.append(val_loss_value)\n",
    "            \n",
    "            # Perform gradient descent update\n",
    "            gradient = (1 / m) * X_bias.T.dot(predictions - y)\n",
    "            self.theta -= self.learning_rate * gradient\n",
    "    \n",
    "    def compute_loss(self, X, y):\n",
    "        m = len(y)\n",
    "        predictions = X.dot(self.theta)\n",
    "        return (1 / (2 * m)) * np.sum((predictions - y) ** 2)\n",
    "    \n",
    "    def predict(self, X):\n",
    "        X_bias = np.c_[np.ones(X.shape[0]), X]  # Add bias term\n",
    "        return X_bias.dot(self.theta)\n"
   ]
  },
  {
   "cell_type": "code",
   "execution_count": 9,
   "metadata": {},
   "outputs": [
    {
     "name": "stdout",
     "output_type": "stream",
     "text": [
      "Predictions: [3.25605507 6.04961797 8.84318087]\n",
      "Final Training Loss: 0.015477094447607507\n"
     ]
    }
   ],
   "source": [
    "# Example usage of ScratchLinearRegression class\n",
    "\n",
    "# Sample data (X, y)\n",
    "X = np.array([[1, 2], [2, 3], [3, 4]])  # Feature matrix (3 samples, 2 features)\n",
    "y = np.array([3, 6, 9])  # Actual target values\n",
    "\n",
    "# Instantiate the linear regression model\n",
    "model = ScratchLinearRegression(learning_rate=0.01, iterations=1000)\n",
    "\n",
    "# Train the model\n",
    "model.fit(X, y)\n",
    "\n",
    "# Make predictions\n",
    "predictions = model.predict(X)\n",
    "print(\"Predictions:\", predictions)\n",
    "\n",
    "# Print the loss at the final iteration\n",
    "print(\"Final Training Loss:\", model.loss[-1])\n"
   ]
  },
  {
   "cell_type": "code",
   "execution_count": 11,
   "metadata": {},
   "outputs": [],
   "source": [
    "import pandas as pd\n",
    "import numpy as np\n",
    "from sklearn.model_selection import train_test_split\n",
    "from sklearn.preprocessing import StandardScaler\n",
    "\n",
    "# Load the House Prices dataset\n",
    "train_df = pd.read_csv('train.csv')\n",
    "\n",
    "# Separate the columns into numeric and categorical\n",
    "numeric_columns = train_df.select_dtypes(include=[np.number]).columns\n",
    "categorical_columns = train_df.select_dtypes(include=['object']).columns\n",
    "\n",
    "# Fill missing values for numeric columns with the median\n",
    "train_df[numeric_columns] = train_df[numeric_columns].fillna(train_df[numeric_columns].median())\n",
    "\n",
    "# Fill missing values for categorical columns with the mode (most frequent value)\n",
    "train_df[categorical_columns] = train_df[categorical_columns].fillna(train_df[categorical_columns].mode().iloc[0])\n",
    "\n",
    "# Select features (excluding the target column 'SalePrice')\n",
    "X = train_df.drop(columns=['SalePrice'])\n",
    "y = train_df['SalePrice']\n",
    "\n",
    "# Convert categorical columns to numerical using one-hot encoding\n",
    "X = pd.get_dummies(X)\n",
    "\n",
    "# Split the data into training and validation sets\n",
    "X_train, X_val, y_train, y_val = train_test_split(X, y, test_size=0.2, random_state=42)\n",
    "\n",
    "# Standardize the features (important for gradient descent to converge faster)\n",
    "scaler = StandardScaler()\n",
    "X_train = scaler.fit_transform(X_train)\n",
    "X_val = scaler.transform(X_val)\n"
   ]
  },
  {
   "cell_type": "code",
   "execution_count": 12,
   "metadata": {},
   "outputs": [
    {
     "name": "stdout",
     "output_type": "stream",
     "text": [
      "Mean Squared Error (Scratch Implementation): 803613561.8069522\n"
     ]
    }
   ],
   "source": [
    "# Assuming the ScratchLinearRegression class is defined as provided in previous cells\n",
    "model_scratch = ScratchLinearRegression(learning_rate=0.01, iterations=1000)\n",
    "\n",
    "# Train the ScratchLinearRegression model\n",
    "model_scratch.fit(X_train, y_train, X_val=X_val, y_val=y_val)\n",
    "\n",
    "# Make predictions on the validation set\n",
    "predictions_scratch = model_scratch.predict(X_val)\n",
    "\n",
    "# Compute the Mean Squared Error for Scratch model\n",
    "mse_scratch = mean_squared_error(y_val, predictions_scratch)\n",
    "print(f\"Mean Squared Error (Scratch Implementation): {mse_scratch}\")\n"
   ]
  },
  {
   "cell_type": "code",
   "execution_count": 13,
   "metadata": {},
   "outputs": [
    {
     "name": "stdout",
     "output_type": "stream",
     "text": [
      "Mean Squared Error (Scikit-learn Implementation): 5.083425940822553e+27\n"
     ]
    }
   ],
   "source": [
    "# Train the LinearRegression model from scikit-learn\n",
    "model_sklearn = LinearRegression()\n",
    "model_sklearn.fit(X_train, y_train)\n",
    "\n",
    "# Make predictions on the validation set\n",
    "predictions_sklearn = model_sklearn.predict(X_val)\n",
    "\n",
    "# Compute the Mean Squared Error for the scikit-learn model\n",
    "mse_sklearn = mean_squared_error(y_val, predictions_sklearn)\n",
    "print(f\"Mean Squared Error (Scikit-learn Implementation): {mse_sklearn}\")\n"
   ]
  },
  {
   "cell_type": "code",
   "execution_count": 14,
   "metadata": {},
   "outputs": [
    {
     "name": "stdout",
     "output_type": "stream",
     "text": [
      "Mean Squared Error (Scratch Implementation): 803613561.8069522\n",
      "Mean Squared Error (Scikit-learn Implementation): 5.083425940822553e+27\n"
     ]
    }
   ],
   "source": [
    "print(f\"Mean Squared Error (Scratch Implementation): {mse_scratch}\")\n",
    "print(f\"Mean Squared Error (Scikit-learn Implementation): {mse_sklearn}\")\n"
   ]
  },
  {
   "cell_type": "code",
   "execution_count": 15,
   "metadata": {},
   "outputs": [
    {
     "name": "stdout",
     "output_type": "stream",
     "text": [
      "R^2 (Scratch Implementation): 0.8952308493667501\n",
      "R^2 (Scikit-learn Implementation): -6.627392112814397e+17\n"
     ]
    }
   ],
   "source": [
    "from sklearn.metrics import r2_score\n",
    "\n",
    "r2_scratch = r2_score(y_val, predictions_scratch)\n",
    "r2_sklearn = r2_score(y_val, predictions_sklearn)\n",
    "\n",
    "print(f\"R^2 (Scratch Implementation): {r2_scratch}\")\n",
    "print(f\"R^2 (Scikit-learn Implementation): {r2_sklearn}\")\n"
   ]
  },
  {
   "cell_type": "code",
   "execution_count": 16,
   "metadata": {},
   "outputs": [],
   "source": [
    "import matplotlib.pyplot as plt\n",
    "\n",
    "def plot_learning_curve(training_loss, validation_loss):\n",
    "    \"\"\"\n",
    "    Plots the learning curve showing the loss (training and validation) over iterations.\n",
    "    \n",
    "    Parameters:\n",
    "    - training_loss (list): List of loss values recorded during training.\n",
    "    - validation_loss (list): List of loss values recorded during validation.\n",
    "    \"\"\"\n",
    "    plt.plot(range(1, len(training_loss) + 1), training_loss, label='Training Loss', color='blue')\n",
    "    plt.plot(range(1, len(validation_loss) + 1), validation_loss, label='Validation Loss', color='red')\n",
    "    plt.xlabel('Iterations')\n",
    "    plt.ylabel('Loss')\n",
    "    plt.title('Learning Curve')\n",
    "    plt.legend()\n",
    "    plt.grid(True)\n",
    "    plt.show()\n",
    "\n",
    "# Assuming self.loss and self.val_loss are lists storing loss values during training\n",
    "# Example: plot_learning_curve(self.loss, self.val_loss)\n"
   ]
  },
  {
   "cell_type": "code",
   "execution_count": 18,
   "metadata": {},
   "outputs": [
    {
     "data": {
      "image/png": "[encoded data removed]",
      "text/plain": [
       "<Figure size 640x480 with 1 Axes>"
      ]
     },
     "metadata": {},
     "output_type": "display_data"
    }
   ],
   "source": [
    "# Assuming ScratchLinearRegression class is defined and loss values are recorded\n",
    "\n",
    "# Instantiate the model\n",
    "model = ScratchLinearRegression()\n",
    "\n",
    "# Train the model (this will populate self.loss and self.val_loss during training)\n",
    "model.fit(X_train, y_train)\n",
    "\n",
    "# Now that training is complete, plot the learning curve\n",
    "plot_learning_curve(model.loss, model.val_loss)\n"
   ]
  },
  {
   "cell_type": "markdown",
   "metadata": {},
   "source": [
    "1. The Role of the Bias Term\n",
    "Intercept Adjustment: The bias term allows the model to shift vertically (in the case of linear regression) or along the axis of the output variable. Without the bias, the model forces the line (or hyperplane) to go through the origin (0,0), which is not suitable for many real-world problems.\n",
    "Flexibility: Including the bias term enhances the flexibility of the model, allowing it to better fit the data. For instance, if your data does not have an inherent zero-centered relationship between inputs and outputs, the bias term enables the model to adjust accordingly.\n",
    "2. Impact of Removing the Bias Term\n",
    "Forcing Zero at the Origin: When (0,0) is removed, the model is forced to go through the origin (0, 0), assuming the relationship between the features and target variable passes through the origin. This can result in a poor fit, especially if the data doesn’t naturally pass through the origin.\n",
    "Decreased Model Performance: In practice, removing the bias term often leads to worse model performance because it restricts the flexibility of the model. The model may fail to adequately capture the true underlying data distribution, leading to higher error rates.\n",
    "Bias-Variance Tradeoff: While omitting the bias term might reduce the model's ability to overfit (increasing bias), it also reduces its ability to capture the true relationships in the data (increasing bias). This can worsen the model’s performance overall.\n",
    "3. Mathematical Implications\n",
    "The typical linear regression model is defined as will attempt to minimize errors without allowing for any intercept adjustment.\n",
    "4. Empirical Impact\n",
    "Training Behavior: Without the bias term, the optimization algorithm (such as gradient descent) will work harder to fit the model. However, since the model is constrained, it may never fully capture the relationships in the data.\n",
    "Convergence Issues: In practice, the model may require more iterations to converge or may not converge to an optimal solution at all if the data inherently requires a non-zero intercept.\n",
    "5. Examples and Practical Considerations\n",
    "In cases like predicting house prices, where the target variable (price) is unlikely to be zero when all feature variables are zero, removing the bias term would produce poor predictions.\n",
    "For linear models applied to data such as physical measurements or financial data (e.g., predicting revenue based on advertising spend), the bias term often plays a crucial role in aligning predictions with the data’s structure.\n",
    "6. Conclusion\n",
    "The bias term in linear regression is a fundamental component that helps the model make more accurate predictions by allowing it to fit the data more flexibly. Removing the bias term forces the model to fit a line that goes through the origin, which can severely limit its ability to model complex relationships and result in poor performance."
   ]
  },
  {
   "cell_type": "code",
   "execution_count": 22,
   "metadata": {},
   "outputs": [
    {
     "name": "stdout",
     "output_type": "stream",
     "text": [
      "Mean Squared Error: 1147772218.3143718\n"
     ]
    }
   ],
   "source": [
    "from sklearn.preprocessing import PolynomialFeatures\n",
    "from sklearn.linear_model import LinearRegression\n",
    "from sklearn.model_selection import train_test_split\n",
    "from sklearn.metrics import mean_squared_error\n",
    "import numpy as np\n",
    "\n",
    "# Example: Replace this with your actual dataset\n",
    "# Assume X is the square footage of houses and y is the price\n",
    "X = np.array([[1500], [1800], [2400], [3000], [3500]])  # Example feature (square footage)\n",
    "y = np.array([400000, 450000, 500000, 600000, 650000])  # Example target (price)\n",
    "\n",
    "# Create polynomial features (e.g., squared, cubed)\n",
    "poly = PolynomialFeatures(degree=3)\n",
    "X_poly = poly.fit_transform(X)\n",
    "\n",
    "# Split data into train/test sets\n",
    "X_train, X_test, y_train, y_test = train_test_split(X_poly, y, test_size=0.2, random_state=42)\n",
    "\n",
    "# Fit linear regression model\n",
    "model = LinearRegression()\n",
    "model.fit(X_train, y_train)\n",
    "\n",
    "# Predict and evaluate\n",
    "y_pred = model.predict(X_test)\n",
    "mse = mean_squared_error(y_test, y_pred)\n",
    "print(f\"Mean Squared Error: {mse}\")\n"
   ]
  },
  {
   "cell_type": "code",
   "execution_count": 23,
   "metadata": {},
   "outputs": [
    {
     "name": "stdout",
     "output_type": "stream",
     "text": [
      "Iteration 0, Loss: 4.2769\n",
      "Iteration 100, Loss: 0.004279170600537284\n",
      "Iteration 200, Loss: 0.0030507177443470433\n",
      "Iteration 300, Loss: 0.0021749258751105247\n",
      "Iteration 400, Loss: 0.0015505539871692496\n",
      "Iteration 500, Loss: 0.0011054251065012865\n",
      "Iteration 600, Loss: 0.0007880826312370147\n",
      "Iteration 700, Loss: 0.0005618419827854006\n",
      "Iteration 800, Loss: 0.00040054989300392617\n",
      "Iteration 900, Loss: 0.00028556110383573\n",
      "Predictions: [1.03425405 2.02113149 3.00800893 3.99488637 4.9817638 ]\n"
     ]
    }
   ],
   "source": [
    "import numpy as np\n",
    "\n",
    "class ScratchLinearRegression:\n",
    "    def __init__(self, learning_rate=0.01, n_iterations=1000):\n",
    "        self.alpha = learning_rate  # Learning rate\n",
    "        self.n_iterations = n_iterations  # Number of iterations for gradient descent\n",
    "        self.theta = None  # Parameters (weights)\n",
    "        \n",
    "    def fit(self, X, y):\n",
    "        m = len(y)  # Number of training samples\n",
    "        X_bias = np.c_[np.ones(m), X]  # Add bias term (x0 = 1 for each example)\n",
    "        \n",
    "        # Initialize parameters to zero\n",
    "        self.theta = np.zeros(X_bias.shape[1])\n",
    "        \n",
    "        # Gradient Descent\n",
    "        for _ in range(self.n_iterations):\n",
    "            # Compute the prediction\n",
    "            predictions = self.predict(X)\n",
    "            \n",
    "            # Calculate the errors (difference between predictions and actual values)\n",
    "            errors = predictions - y\n",
    "            \n",
    "            # Compute the gradient for each parameter (theta_j)\n",
    "            gradients = (1 / m) * X_bias.T.dot(errors)\n",
    "            \n",
    "            # Update the parameters (weights)\n",
    "            self.theta -= self.alpha * gradients\n",
    "            \n",
    "            # Optionally, you can calculate and print loss during training\n",
    "            if _ % 100 == 0:  # Print every 100 iterations\n",
    "                loss = self.loss(X, y)\n",
    "                print(f\"Iteration {_}, Loss: {loss}\")\n",
    "    \n",
    "    def predict(self, X):\n",
    "        X_bias = np.c_[np.ones(X.shape[0]), X]  # Add bias term (x0 = 1 for each example)\n",
    "        return X_bias.dot(self.theta)  # Return the dot product of X and theta (predictions)\n",
    "    \n",
    "    def loss(self, X, y):\n",
    "        predictions = self.predict(X)\n",
    "        m = len(y)\n",
    "        return (1 / (2 * m)) * np.sum((predictions - y) ** 2)  # Mean squared error (MSE)\n",
    "\n",
    "# Example usage\n",
    "if __name__ == \"__main__\":\n",
    "    # Example data (simple linear relationship)\n",
    "    X = np.array([[1], [2], [3], [4], [5]])  # Feature (e.g., square footage)\n",
    "    y = np.array([1, 2, 3, 4, 5])  # Target (e.g., house prices)\n",
    "    \n",
    "    # Create an instance of the model\n",
    "    model = ScratchLinearRegression(learning_rate=0.01, n_iterations=1000)\n",
    "    \n",
    "    # Train the model\n",
    "    model.fit(X, y)\n",
    "    \n",
    "    # Make predictions\n",
    "    predictions = model.predict(X)\n",
    "    print(\"Predictions:\", predictions)\n"
   ]
  },
  {
   "cell_type": "code",
   "execution_count": 24,
   "metadata": {},
   "outputs": [
    {
     "data": {
      "image/png": "[encoded data removed]",
      "text/plain": [
       "<Figure size 640x480 with 1 Axes>"
      ]
     },
     "metadata": {},
     "output_type": "display_data"
    },
    {
     "name": "stdout",
     "output_type": "stream",
     "text": [
      "Optimal parameters (theta): [[4.21509609]\n",
      " [2.77011344]]\n"
     ]
    },
    {
     "data": {
      "image/png": "[encoded data removed]",
      "text/plain": [
       "<Figure size 640x480 with 1 Axes>"
      ]
     },
     "metadata": {},
     "output_type": "display_data"
    }
   ],
   "source": [
    "import numpy as np\n",
    "import matplotlib.pyplot as plt\n",
    "\n",
    "# Generate synthetic data for simple linear regression\n",
    "np.random.seed(42)\n",
    "m = 100  # Number of data points\n",
    "X = 2 * np.random.rand(m, 1)  # Feature values between 0 and 2\n",
    "y = 4 + 3 * X + np.random.randn(m, 1)  # Target values with some noise\n",
    "\n",
    "# Add a column of ones to X to account for the bias term (theta_0)\n",
    "X_bias = np.c_[np.ones((m, 1)), X]  # Shape (m, 2) now\n",
    "\n",
    "# Gradient Descent implementation\n",
    "def compute_cost(X, y, theta):\n",
    "    \"\"\"Compute the Mean Squared Error (MSE) cost function.\"\"\"\n",
    "    m = len(y)\n",
    "    predictions = X.dot(theta)\n",
    "    cost = (1 / (2 * m)) * np.sum((predictions - y) ** 2)\n",
    "    return cost\n",
    "\n",
    "def gradient_descent(X, y, theta, learning_rate=0.1, n_iterations=1000):\n",
    "    \"\"\"Perform gradient descent to learn theta.\"\"\"\n",
    "    m = len(y)\n",
    "    cost_history = []\n",
    "\n",
    "    for iteration in range(n_iterations):\n",
    "        gradients = (1 / m) * X.T.dot(X.dot(theta) - y)\n",
    "        theta = theta - learning_rate * gradients\n",
    "        cost_history.append(compute_cost(X, y, theta))\n",
    "    \n",
    "    return theta, cost_history\n",
    "\n",
    "# Initialize theta parameters (theta_0 and theta_1)\n",
    "theta_init = np.random.randn(2, 1)\n",
    "\n",
    "# Perform gradient descent to fit the model\n",
    "theta_optimal, cost_history = gradient_descent(X_bias, y, theta_init)\n",
    "\n",
    "# Plot the cost function during the iterations (learning curve)\n",
    "plt.plot(range(len(cost_history)), cost_history)\n",
    "plt.xlabel('Number of Iterations')\n",
    "plt.ylabel('Cost (MSE)')\n",
    "plt.title('Learning Curve (Cost vs Iterations)')\n",
    "plt.show()\n",
    "\n",
    "# Show the learned parameters (theta)\n",
    "print(\"Optimal parameters (theta):\", theta_optimal)\n",
    "\n",
    "# Plot the regression line\n",
    "plt.scatter(X, y, color='blue', label='Data points')\n",
    "plt.plot(X, X_bias.dot(theta_optimal), color='red', label='Regression line')\n",
    "plt.xlabel('Feature (X)')\n",
    "plt.ylabel('Target (y)')\n",
    "plt.title('Linear Regression with Gradient Descent')\n",
    "plt.legend()\n",
    "plt.show()\n"
   ]
  }
 ],
 "metadata": {
  "kernelspec": {
   "display_name": "Python 3",
   "language": "python",
   "name": "python3"
  },
  "language_info": {
   "codemirror_mode": {
    "name": "ipython",
    "version": 3
   },
   "file_extension": ".py",
   "mimetype": "text/x-python",
   "name": "python",
   "nbconvert_exporter": "python",
   "pygments_lexer": "ipython3",
   "version": "3.11.9"
  }
 },
 "nbformat": 4,
 "nbformat_minor": 2
}
